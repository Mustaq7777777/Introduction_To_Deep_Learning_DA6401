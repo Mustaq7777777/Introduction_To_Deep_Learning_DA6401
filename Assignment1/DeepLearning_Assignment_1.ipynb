{
  "nbformat": 4,
  "nbformat_minor": 0,
  "metadata": {
    "colab": {
      "provenance": []
    },
    "kernelspec": {
      "name": "python3",
      "display_name": "Python 3"
    },
    "language_info": {
      "name": "python"
    }
  },
  "cells": [
    {
      "cell_type": "code",
      "execution_count": null,
      "metadata": {
        "id": "Np9y5M3mmoPL"
      },
      "outputs": [],
      "source": [
        "pip install wandb"
      ]
    },
    {
      "cell_type": "code",
      "source": [
        "import wandb\n",
        "import numpy as np\n",
        "import matplotlib.pyplot as plt\n",
        "from keras.datasets import fashion_mnist\n",
        "\n",
        "\n",
        "#There are 10 class labels present in mnist data set.\n",
        "class_labels = [\n",
        "    \"T-shirt/top\", \"Trouser\", \"Pullover\", \"Dress\", \"Coat\",\n",
        "    \"Sandal\", \"Shirt\", \"Sneaker\", \"Bag\", \"Ankle boot\"\n",
        "]\n",
        "\n",
        "\n",
        "wandb.init(project=\"DA6401-Assignment1\", name=\"run1\", reinit=True)\n",
        "\n",
        "#Loading data from the fashion_mnist\n",
        "(train_images, train_labels), (test_images, test_labels) = fashion_mnist.load_data()\n",
        "\n",
        "#storing images in Image_set\n",
        "images_to_log = []\n",
        "for class_index in range(10):\n",
        "\n",
        "    #Find the instance of each class and append it .\n",
        "    idx = np.where(train_labels == class_index)[0][0]\n",
        "\n",
        "\n",
        "    image = train_images[idx]\n",
        "    wandb_image = wandb.Image(image, caption=class_labels[class_index])\n",
        "    images_to_log.append(wandb_image)\n",
        "\n",
        "# Log the image to WandB\n",
        "wandb.log({\"Question1 Sample images for each class\": images_to_log})\n",
        "\n",
        "wandb.finish()"
      ],
      "metadata": {
        "id": "bU_YG1OUkeXm"
      },
      "execution_count": null,
      "outputs": []
    },
    {
      "cell_type": "markdown",
      "source": [
        "Activation Functions and their derivatives"
      ],
      "metadata": {
        "id": "n2kZHn46xC4W"
      }
    },
    {
      "cell_type": "code",
      "source": [
        "import numpy as np\n",
        "def softmax(v):\n",
        "    exp_vector = np.exp(v - np.max(v))\n",
        "    return exp_vector / np.sum(exp_vector)\n",
        "\n",
        "def sigmoid(x):\n",
        "    return 1 / (1 + np.exp(-x))\n",
        "\n",
        "def tanh(x):\n",
        "    return np.tanh(x)\n",
        "\n",
        "def relu(x):\n",
        "    return np.maximum(0, x)\n",
        "\n",
        "def d_sigmoid(x):\n",
        "    return sigmoid(x) * (1 - sigmoid(x))\n",
        "\n",
        "def d_tanh(x):\n",
        "    return 1 - np.tanh(x) ** 2\n",
        "\n",
        "def d_relu(x):\n",
        "    if x > 0:\n",
        "      return 1\n",
        "    else:\n",
        "      return 0\n",
        "\n"
      ],
      "metadata": {
        "id": "4EKnZQSGLG1T"
      },
      "execution_count": 2,
      "outputs": []
    }
  ]
}